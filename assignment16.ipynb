{
 "cells": [
  {
   "cell_type": "code",
   "execution_count": 1,
   "id": "143fd92f",
   "metadata": {},
   "outputs": [],
   "source": [
    "import pandas as pd\n",
    "import numpy as np\n",
    "import matplotlib.pyplot as plt\n",
    "%matplotlib inline"
   ]
  },
  {
   "cell_type": "code",
   "execution_count": 2,
   "id": "7c0b476f",
   "metadata": {},
   "outputs": [],
   "source": [
    "df = pd.read_csv('https://raw.githubusercontent.com/jackiekazil/data-wrangling/master/data/chp3/data-text.csv')"
   ]
  },
  {
   "cell_type": "code",
   "execution_count": 3,
   "id": "506addaa",
   "metadata": {},
   "outputs": [
    {
     "data": {
      "text/html": [
       "<div>\n",
       "<style scoped>\n",
       "    .dataframe tbody tr th:only-of-type {\n",
       "        vertical-align: middle;\n",
       "    }\n",
       "\n",
       "    .dataframe tbody tr th {\n",
       "        vertical-align: top;\n",
       "    }\n",
       "\n",
       "    .dataframe thead th {\n",
       "        text-align: right;\n",
       "    }\n",
       "</style>\n",
       "<table border=\"1\" class=\"dataframe\">\n",
       "  <thead>\n",
       "    <tr style=\"text-align: right;\">\n",
       "      <th></th>\n",
       "      <th>Indicator</th>\n",
       "      <th>PUBLISH STATES</th>\n",
       "      <th>Year</th>\n",
       "      <th>WHO region</th>\n",
       "      <th>World Bank income group</th>\n",
       "      <th>Country</th>\n",
       "      <th>Sex</th>\n",
       "      <th>Display Value</th>\n",
       "      <th>Numeric</th>\n",
       "      <th>Low</th>\n",
       "      <th>High</th>\n",
       "      <th>Comments</th>\n",
       "    </tr>\n",
       "  </thead>\n",
       "  <tbody>\n",
       "    <tr>\n",
       "      <th>0</th>\n",
       "      <td>Life expectancy at birth (years)</td>\n",
       "      <td>Published</td>\n",
       "      <td>1990</td>\n",
       "      <td>Europe</td>\n",
       "      <td>High-income</td>\n",
       "      <td>Andorra</td>\n",
       "      <td>Both sexes</td>\n",
       "      <td>77</td>\n",
       "      <td>77.0</td>\n",
       "      <td>NaN</td>\n",
       "      <td>NaN</td>\n",
       "      <td>NaN</td>\n",
       "    </tr>\n",
       "    <tr>\n",
       "      <th>1</th>\n",
       "      <td>Life expectancy at birth (years)</td>\n",
       "      <td>Published</td>\n",
       "      <td>2000</td>\n",
       "      <td>Europe</td>\n",
       "      <td>High-income</td>\n",
       "      <td>Andorra</td>\n",
       "      <td>Both sexes</td>\n",
       "      <td>80</td>\n",
       "      <td>80.0</td>\n",
       "      <td>NaN</td>\n",
       "      <td>NaN</td>\n",
       "      <td>NaN</td>\n",
       "    </tr>\n",
       "    <tr>\n",
       "      <th>2</th>\n",
       "      <td>Life expectancy at age 60 (years)</td>\n",
       "      <td>Published</td>\n",
       "      <td>2012</td>\n",
       "      <td>Europe</td>\n",
       "      <td>High-income</td>\n",
       "      <td>Andorra</td>\n",
       "      <td>Female</td>\n",
       "      <td>28</td>\n",
       "      <td>28.0</td>\n",
       "      <td>NaN</td>\n",
       "      <td>NaN</td>\n",
       "      <td>NaN</td>\n",
       "    </tr>\n",
       "    <tr>\n",
       "      <th>3</th>\n",
       "      <td>Life expectancy at age 60 (years)</td>\n",
       "      <td>Published</td>\n",
       "      <td>2000</td>\n",
       "      <td>Europe</td>\n",
       "      <td>High-income</td>\n",
       "      <td>Andorra</td>\n",
       "      <td>Both sexes</td>\n",
       "      <td>23</td>\n",
       "      <td>23.0</td>\n",
       "      <td>NaN</td>\n",
       "      <td>NaN</td>\n",
       "      <td>NaN</td>\n",
       "    </tr>\n",
       "    <tr>\n",
       "      <th>4</th>\n",
       "      <td>Life expectancy at birth (years)</td>\n",
       "      <td>Published</td>\n",
       "      <td>2012</td>\n",
       "      <td>Eastern Mediterranean</td>\n",
       "      <td>High-income</td>\n",
       "      <td>United Arab Emirates</td>\n",
       "      <td>Female</td>\n",
       "      <td>78</td>\n",
       "      <td>78.0</td>\n",
       "      <td>NaN</td>\n",
       "      <td>NaN</td>\n",
       "      <td>NaN</td>\n",
       "    </tr>\n",
       "  </tbody>\n",
       "</table>\n",
       "</div>"
      ],
      "text/plain": [
       "                           Indicator PUBLISH STATES  Year  \\\n",
       "0   Life expectancy at birth (years)      Published  1990   \n",
       "1   Life expectancy at birth (years)      Published  2000   \n",
       "2  Life expectancy at age 60 (years)      Published  2012   \n",
       "3  Life expectancy at age 60 (years)      Published  2000   \n",
       "4   Life expectancy at birth (years)      Published  2012   \n",
       "\n",
       "              WHO region World Bank income group               Country  \\\n",
       "0                 Europe             High-income               Andorra   \n",
       "1                 Europe             High-income               Andorra   \n",
       "2                 Europe             High-income               Andorra   \n",
       "3                 Europe             High-income               Andorra   \n",
       "4  Eastern Mediterranean             High-income  United Arab Emirates   \n",
       "\n",
       "          Sex  Display Value  Numeric  Low  High  Comments  \n",
       "0  Both sexes             77     77.0  NaN   NaN       NaN  \n",
       "1  Both sexes             80     80.0  NaN   NaN       NaN  \n",
       "2      Female             28     28.0  NaN   NaN       NaN  \n",
       "3  Both sexes             23     23.0  NaN   NaN       NaN  \n",
       "4      Female             78     78.0  NaN   NaN       NaN  "
      ]
     },
     "execution_count": 3,
     "metadata": {},
     "output_type": "execute_result"
    }
   ],
   "source": [
    "df.head(5)"
   ]
  },
  {
   "cell_type": "code",
   "execution_count": null,
   "id": "c311868c",
   "metadata": {},
   "outputs": [],
   "source": [
    "df1 =pd.read_csv('https://raw.githubusercontent.com/kjam/data-wrangling-pycon/master/data/berlin_weather_oldest.csv')\n",
    "df1.head(5)"
   ]
  },
  {
   "cell_type": "code",
   "execution_count": null,
   "id": "3cbf0bea",
   "metadata": {},
   "outputs": [],
   "source": [
    "df.tail(7)"
   ]
  },
  {
   "cell_type": "code",
   "execution_count": null,
   "id": "d5db5e3b",
   "metadata": {},
   "outputs": [],
   "source": [
    "# print total records and type of variables\n",
    "df.info()"
   ]
  },
  {
   "cell_type": "code",
   "execution_count": null,
   "id": "41e064f9",
   "metadata": {},
   "outputs": [],
   "source": [
    "df.shape[0]\n",
    "# 4622 observations"
   ]
  },
  {
   "cell_type": "code",
   "execution_count": null,
   "id": "8e9d8d0b",
   "metadata": {},
   "outputs": [],
   "source": [
    "df.columns"
   ]
  },
  {
   "cell_type": "code",
   "execution_count": null,
   "id": "36ee60c3",
   "metadata": {},
   "outputs": [],
   "source": [
    "df.index"
   ]
  },
  {
   "cell_type": "code",
   "execution_count": null,
   "id": "3a5f702a",
   "metadata": {},
   "outputs": [],
   "source": [
    "df1.info()"
   ]
  },
  {
   "cell_type": "code",
   "execution_count": null,
   "id": "8bc6c742",
   "metadata": {},
   "outputs": [],
   "source": [
    "df1.shape"
   ]
  },
  {
   "cell_type": "code",
   "execution_count": null,
   "id": "037851af",
   "metadata": {},
   "outputs": [],
   "source": [
    "df1.columns"
   ]
  },
  {
   "cell_type": "code",
   "execution_count": null,
   "id": "5f09a005",
   "metadata": {},
   "outputs": [],
   "source": [
    "df1.index"
   ]
  },
  {
   "cell_type": "markdown",
   "id": "9cd2733b",
   "metadata": {},
   "source": [
    "2. Get the row names from the above files."
   ]
  },
  {
   "cell_type": "code",
   "execution_count": null,
   "id": "e32cde9a",
   "metadata": {},
   "outputs": [],
   "source": [
    "row_names1 = df.index.to_numpy()\n",
    "row_names1"
   ]
  },
  {
   "cell_type": "code",
   "execution_count": null,
   "id": "5b58313b",
   "metadata": {},
   "outputs": [],
   "source": [
    "print(row_names1)\n",
    "print(type(row_names1))"
   ]
  },
  {
   "cell_type": "code",
   "execution_count": null,
   "id": "c9538024",
   "metadata": {},
   "outputs": [],
   "source": [
    "row_names2 = df1.index.to_numpy()\n",
    "row_names2"
   ]
  },
  {
   "cell_type": "markdown",
   "id": "3ef257ee",
   "metadata": {},
   "source": [
    "3. Change the column name from any of the above file."
   ]
  },
  {
   "cell_type": "code",
   "execution_count": null,
   "id": "3314905e",
   "metadata": {},
   "outputs": [],
   "source": [
    "df.head(2)"
   ]
  },
  {
   "cell_type": "code",
   "execution_count": null,
   "id": "8eaffcfe",
   "metadata": {},
   "outputs": [],
   "source": [
    "df.columns=df.columns.str.lower()"
   ]
  },
  {
   "cell_type": "code",
   "execution_count": null,
   "id": "133a142f",
   "metadata": {},
   "outputs": [],
   "source": [
    "#changing the single column name \n",
    "df.head(2)"
   ]
  },
  {
   "cell_type": "code",
   "execution_count": null,
   "id": "f14ab66e",
   "metadata": {},
   "outputs": [],
   "source": [
    "df.rename(columns={'indicator':'indicator_id'},inplace=True)"
   ]
  },
  {
   "cell_type": "code",
   "execution_count": null,
   "id": "da3225a0",
   "metadata": {},
   "outputs": [],
   "source": [
    "df.head(2)"
   ]
  },
  {
   "cell_type": "code",
   "execution_count": null,
   "id": "faa212ad",
   "metadata": {},
   "outputs": [],
   "source": [
    "#chanding multiple column names\n",
    "#df.columns = ['indicator_id', 'publish by states','region'] you have to write all the column names for these methods\n",
    "df.columns = df.columns.str.replace('who region','region')"
   ]
  },
  {
   "cell_type": "code",
   "execution_count": null,
   "id": "209b0bc1",
   "metadata": {},
   "outputs": [],
   "source": [
    "df.head(2)"
   ]
  },
  {
   "cell_type": "code",
   "execution_count": null,
   "id": "c91bcfe8",
   "metadata": {},
   "outputs": [],
   "source": [
    "#df.set_axis(['col1','col2'], axis = 'columns', inplace=True)\n",
    "df.rename(columns={'indicator':'indicator_id','world bank income group':'income'},inplace=True)\n",
    "df.head(2)"
   ]
  },
  {
   "cell_type": "code",
   "execution_count": null,
   "id": "dc0651f7",
   "metadata": {},
   "outputs": [],
   "source": [
    "df.columns = df.columns.str.title()\n",
    "df.head(5)"
   ]
  },
  {
   "cell_type": "markdown",
   "id": "bd4e6a14",
   "metadata": {},
   "source": [
    "6. Arrange values of a particular column in ascending order."
   ]
  },
  {
   "cell_type": "code",
   "execution_count": null,
   "id": "61f8c2a9",
   "metadata": {},
   "outputs": [],
   "source": [
    "df.sort_values(by=['Year'])"
   ]
  },
  {
   "cell_type": "markdown",
   "id": "2e80053b",
   "metadata": {},
   "source": [
    "7. Arrange multiple column values in ascending order."
   ]
  },
  {
   "cell_type": "code",
   "execution_count": null,
   "id": "c7bebad9",
   "metadata": {},
   "outputs": [],
   "source": [
    "df.sort_values(by=['Year','Display Value','Numeric'])"
   ]
  },
  {
   "cell_type": "markdown",
   "id": "c7227769",
   "metadata": {},
   "source": [
    "8. Make country​ as the first column of the dataframe."
   ]
  },
  {
   "cell_type": "code",
   "execution_count": null,
   "id": "04ea1627",
   "metadata": {},
   "outputs": [],
   "source": [
    "first = df.pop('Country')\n",
    "df.insert(0, 'Country', first)\n",
    "df.head(5)"
   ]
  },
  {
   "cell_type": "markdown",
   "id": "a52a0dec",
   "metadata": {},
   "source": [
    "9. Get the column array using a variable"
   ]
  },
  {
   "cell_type": "code",
   "execution_count": null,
   "id": "7aa1b8f5",
   "metadata": {},
   "outputs": [],
   "source": [
    "country = df.get('Country')\n",
    "country"
   ]
  },
  {
   "cell_type": "code",
   "execution_count": null,
   "id": "f55cfbf8",
   "metadata": {},
   "outputs": [],
   "source": [
    "country = np.asarray(df['Country'])\n",
    "country"
   ]
  },
  {
   "cell_type": "code",
   "execution_count": null,
   "id": "2112546e",
   "metadata": {},
   "outputs": [],
   "source": [
    "country = pd.Series('Country')\n",
    "country"
   ]
  },
  {
   "cell_type": "markdown",
   "id": "7797d5a9",
   "metadata": {},
   "source": [
    "10. Get the subset rows 11, 24, 37"
   ]
  },
  {
   "cell_type": "code",
   "execution_count": null,
   "id": "e6823434",
   "metadata": {},
   "outputs": [],
   "source": [
    "df.loc[[11,24,37]]"
   ]
  },
  {
   "cell_type": "markdown",
   "id": "2aa8c34a",
   "metadata": {},
   "source": [
    "11. Get the subset rows excluding 5, 12, 23, and 56"
   ]
  },
  {
   "cell_type": "code",
   "execution_count": null,
   "id": "363b3910",
   "metadata": {},
   "outputs": [],
   "source": [
    "bad_df = df.index.isin([5,12,23,56])\n",
    "df[~bad_df].head(10)"
   ]
  },
  {
   "cell_type": "markdown",
   "id": "f41686b1",
   "metadata": {},
   "source": [
    "**you can see that 5 is excluded from the dataframe**"
   ]
  },
  {
   "cell_type": "markdown",
   "id": "b417e28d",
   "metadata": {},
   "source": [
    "**Now we try to load different datasets**"
   ]
  },
  {
   "cell_type": "code",
   "execution_count": null,
   "id": "396381eb",
   "metadata": {},
   "outputs": [],
   "source": [
    "users = pd.read_csv('https://raw.githubusercontent.com/ben519/DataWrangling/master/Data/users.csv')"
   ]
  },
  {
   "cell_type": "code",
   "execution_count": null,
   "id": "55009405",
   "metadata": {},
   "outputs": [],
   "source": [
    "sessions = pd.read_csv('https://raw.githubusercontent.com/ben519/DataWrangling/master/Data/sessions.csv')"
   ]
  },
  {
   "cell_type": "code",
   "execution_count": null,
   "id": "887395cc",
   "metadata": {},
   "outputs": [],
   "source": [
    "products = pd.read_csv('https://raw.githubusercontent.com/ben519/DataWrangling/master/Data/products.csv')"
   ]
  },
  {
   "cell_type": "code",
   "execution_count": null,
   "id": "06e9ca39",
   "metadata": {},
   "outputs": [],
   "source": [
    "transactions = pd.read_csv('https://raw.githubusercontent.com/ben519/DataWrangling/master/Data/transactions.csv')"
   ]
  },
  {
   "cell_type": "code",
   "execution_count": null,
   "id": "1d6896cb",
   "metadata": {},
   "outputs": [],
   "source": [
    "users.head()"
   ]
  },
  {
   "cell_type": "code",
   "execution_count": null,
   "id": "4a8f1988",
   "metadata": {},
   "outputs": [],
   "source": [
    "sessions.head()"
   ]
  },
  {
   "cell_type": "code",
   "execution_count": null,
   "id": "3b1e11fd",
   "metadata": {},
   "outputs": [],
   "source": [
    "transactions.head()"
   ]
  },
  {
   "cell_type": "code",
   "execution_count": null,
   "id": "92ace932",
   "metadata": {},
   "outputs": [],
   "source": [
    "products.head()"
   ]
  },
  {
   "cell_type": "markdown",
   "id": "2084a11e",
   "metadata": {},
   "source": [
    "12. Join users to transactions, keeping all rows from transactions and only matching rows fromusers (left join)"
   ]
  },
  {
   "cell_type": "code",
   "execution_count": null,
   "id": "6e4e7560",
   "metadata": {},
   "outputs": [],
   "source": [
    "df = pd.merge( transactions, users, how = 'left')\n",
    "df.head(5)"
   ]
  },
  {
   "cell_type": "markdown",
   "id": "7e09ccef",
   "metadata": {},
   "source": [
    "15. Join users to transactions, displaying all matching rows AND all non-matching rows (full outer join)"
   ]
  },
  {
   "cell_type": "markdown",
   "id": "e0cd9aca",
   "metadata": {},
   "source": [
    "13. Which transactions have a UserID not in users?"
   ]
  },
  {
   "cell_type": "code",
   "execution_count": null,
   "id": "8c98bbe0",
   "metadata": {},
   "outputs": [],
   "source": [
    "# for these we have to use the transcation column\n",
    "transactions.head(10)"
   ]
  },
  {
   "cell_type": "code",
   "execution_count": null,
   "id": "be8c59a5",
   "metadata": {},
   "outputs": [],
   "source": [
    "transactions['UserID'].nunique()"
   ]
  },
  {
   "cell_type": "code",
   "execution_count": null,
   "id": "f2f47b39",
   "metadata": {},
   "outputs": [],
   "source": [
    "transactions['UserID'].isna().sum()"
   ]
  },
  {
   "cell_type": "code",
   "execution_count": null,
   "id": "3a6c6886",
   "metadata": {},
   "outputs": [],
   "source": [
    "transactions['TransactionID'].isna().sum()"
   ]
  },
  {
   "cell_type": "code",
   "execution_count": null,
   "id": "e6123fe4",
   "metadata": {},
   "outputs": [],
   "source": [
    "# Find rows with NaN in column 'B'\n",
    "rows_with_nan = transactions['UserID'].isnull()\n",
    "\n",
    "# Return the dataframe with rows with NaN in column 'B'\n",
    "df_with_nan = transactions[rows_with_nan]\n",
    "\n",
    "# Print the dataframe\n",
    "df_with_nan.head(5)"
   ]
  },
  {
   "cell_type": "code",
   "execution_count": null,
   "id": "3d47c4c6",
   "metadata": {},
   "outputs": [],
   "source": []
  },
  {
   "cell_type": "markdown",
   "id": "64bfcbbd",
   "metadata": {},
   "source": [
    "14. Join users to transactions, keeping only rows from transactions and users that match via UserID (inner join)"
   ]
  },
  {
   "cell_type": "code",
   "execution_count": null,
   "id": "dd3c617f",
   "metadata": {},
   "outputs": [],
   "source": [
    "df1 = pd.merge( transactions, users, how = 'inner')\n",
    "df1.head(5)"
   ]
  },
  {
   "cell_type": "code",
   "execution_count": null,
   "id": "8fb444d4",
   "metadata": {},
   "outputs": [],
   "source": [
    "df2 = pd.merge( transactions, users, how = 'outer')\n",
    "df2.head(5)"
   ]
  },
  {
   "cell_type": "markdown",
   "id": "d27888d5",
   "metadata": {},
   "source": [
    "16. Determine which sessions occurred on the same day each user registered"
   ]
  },
  {
   "cell_type": "code",
   "execution_count": null,
   "id": "65d2eda3",
   "metadata": {},
   "outputs": [],
   "source": [
    "filterd = df.filter(['TransactionDate','UserID'], like=None, regex=None, axis=None)\n",
    "filterd.head(5)"
   ]
  },
  {
   "cell_type": "code",
   "execution_count": null,
   "id": "11e5b89b",
   "metadata": {},
   "outputs": [],
   "source": [
    "#for these they have use userid and sessions dataset\n",
    "sessions.head(1)"
   ]
  },
  {
   "cell_type": "code",
   "execution_count": null,
   "id": "e858b153",
   "metadata": {},
   "outputs": [],
   "source": [
    "users.head(1)"
   ]
  },
  {
   "cell_type": "code",
   "execution_count": null,
   "id": "d5bcd253",
   "metadata": {},
   "outputs": [],
   "source": [
    "newdf = pd.merge(users,sessions, on ='UserID')\n",
    "newdf"
   ]
  },
  {
   "cell_type": "code",
   "execution_count": null,
   "id": "87b8e68c",
   "metadata": {},
   "outputs": [],
   "source": [
    "result = newdf.equals(sessions['SessionDate'])"
   ]
  },
  {
   "cell_type": "code",
   "execution_count": null,
   "id": "41f22eb7",
   "metadata": {},
   "outputs": [],
   "source": [
    "result"
   ]
  },
  {
   "cell_type": "code",
   "execution_count": null,
   "id": "50e0ba58",
   "metadata": {},
   "outputs": [],
   "source": [
    "result = newdf.isin(sessions['SessionDate'])\n",
    "result.head(0)"
   ]
  },
  {
   "cell_type": "markdown",
   "id": "6f4350b6",
   "metadata": {},
   "source": [
    "17. Build a dataset with every possible (UserID, ProductID) pair (cross join)"
   ]
  },
  {
   "cell_type": "code",
   "execution_count": null,
   "id": "4a27a3a2",
   "metadata": {},
   "outputs": [],
   "source": [
    "print(users.head(2))\n",
    "print(sessions.head(2))\n",
    "print(products.head(2))\n",
    "print(transactions.head(2))"
   ]
  },
  {
   "cell_type": "code",
   "execution_count": null,
   "id": "fb832d49",
   "metadata": {},
   "outputs": [],
   "source": [
    "df = pd.merge(users, sessions,how='cross') \n",
    "df = pd.merge(df,products,how='cross')\n",
    "df = pd.merge(df,transactions, how='cross')\n",
    "df.head()\n"
   ]
  },
  {
   "cell_type": "code",
   "execution_count": null,
   "id": "29f0aaa0",
   "metadata": {},
   "outputs": [],
   "source": [
    "df.rename(columns={'ProductID_x':'ProductID','UserID_x':'UserID'},inplace=True)"
   ]
  },
  {
   "cell_type": "markdown",
   "id": "b5963b89",
   "metadata": {},
   "source": [
    "18. Determine how much quantity of each product was purchased by each user"
   ]
  },
  {
   "cell_type": "code",
   "execution_count": null,
   "id": "7dc4bf45",
   "metadata": {},
   "outputs": [],
   "source": [
    "transactions.head(5)"
   ]
  },
  {
   "cell_type": "code",
   "execution_count": null,
   "id": "dd7d681a",
   "metadata": {},
   "outputs": [],
   "source": [
    "products.head(5)"
   ]
  },
  {
   "cell_type": "code",
   "execution_count": null,
   "id": "feaa940a",
   "metadata": {},
   "outputs": [],
   "source": [
    "users.head(5)"
   ]
  },
  {
   "cell_type": "code",
   "execution_count": null,
   "id": "f33dfe46",
   "metadata": {},
   "outputs": [],
   "source": [
    "new_df = pd.merge(transactions, users, how='inner')\n",
    "new_df"
   ]
  },
  {
   "cell_type": "code",
   "execution_count": null,
   "id": "05b81bc0",
   "metadata": {},
   "outputs": [],
   "source": [
    "# Now we to find quantity of each product, purchased by user.\n",
    "# output value should have userID productID and Quantity\n",
    "new_df.isnull().sum()"
   ]
  },
  {
   "cell_type": "code",
   "execution_count": null,
   "id": "8c06a4c1",
   "metadata": {},
   "outputs": [],
   "source": [
    "new_df['Quantity'].nunique()"
   ]
  },
  {
   "cell_type": "code",
   "execution_count": null,
   "id": "70fbbf39",
   "metadata": {},
   "outputs": [],
   "source": [
    "new_df['UserID'].nunique()"
   ]
  },
  {
   "cell_type": "code",
   "execution_count": null,
   "id": "81f59998",
   "metadata": {},
   "outputs": [],
   "source": [
    "new_df['ProductID'].nunique()"
   ]
  },
  {
   "cell_type": "code",
   "execution_count": null,
   "id": "ee88547c",
   "metadata": {},
   "outputs": [],
   "source": [
    "df_df=new_df.iloc[:,2:5]"
   ]
  },
  {
   "cell_type": "code",
   "execution_count": null,
   "id": "40295e40",
   "metadata": {},
   "outputs": [],
   "source": [
    "df_df.head(5)"
   ]
  },
  {
   "cell_type": "code",
   "execution_count": null,
   "id": "482f6de5",
   "metadata": {},
   "outputs": [],
   "source": [
    "purchase_counts = df_df.groupby(['UserID', 'ProductID'], as_index=False).count()"
   ]
  },
  {
   "cell_type": "code",
   "execution_count": null,
   "id": "3fab517d",
   "metadata": {},
   "outputs": [],
   "source": [
    "purchase_counts"
   ]
  },
  {
   "cell_type": "markdown",
   "id": "b916c9d4",
   "metadata": {},
   "source": []
  },
  {
   "cell_type": "markdown",
   "id": "105d3f68",
   "metadata": {},
   "source": []
  },
  {
   "cell_type": "code",
   "execution_count": null,
   "id": "e1ad00d9",
   "metadata": {},
   "outputs": [],
   "source": [
    "my_columns = list(df.columns)"
   ]
  },
  {
   "cell_type": "code",
   "execution_count": null,
   "id": "5bff9afc",
   "metadata": {},
   "outputs": [],
   "source": [
    "my_columns"
   ]
  },
  {
   "cell_type": "code",
   "execution_count": null,
   "id": "760acc6c",
   "metadata": {},
   "outputs": [],
   "source": [
    "list(df.dropna(thresh=int(df.shape[0] * .9), axis=1).columns) #set threshold to drop NAs"
   ]
  },
  {
   "cell_type": "code",
   "execution_count": null,
   "id": "f65474fc",
   "metadata": {},
   "outputs": [],
   "source": [
    "missing_info = list(df.columns[df.isnull().any()])"
   ]
  },
  {
   "cell_type": "code",
   "execution_count": null,
   "id": "42f164fe",
   "metadata": {},
   "outputs": [],
   "source": [
    "missing_info"
   ]
  },
  {
   "cell_type": "code",
   "execution_count": null,
   "id": "bebf8083",
   "metadata": {},
   "outputs": [],
   "source": [
    "new_df.head(5)"
   ]
  },
  {
   "cell_type": "code",
   "execution_count": null,
   "id": "2fe1c9c0",
   "metadata": {},
   "outputs": [],
   "source": []
  }
 ],
 "metadata": {
  "kernelspec": {
   "display_name": "Python 3 (ipykernel)",
   "language": "python",
   "name": "python3"
  },
  "language_info": {
   "codemirror_mode": {
    "name": "ipython",
    "version": 3
   },
   "file_extension": ".py",
   "mimetype": "text/x-python",
   "name": "python",
   "nbconvert_exporter": "python",
   "pygments_lexer": "ipython3",
   "version": "3.9.13"
  }
 },
 "nbformat": 4,
 "nbformat_minor": 5
}
