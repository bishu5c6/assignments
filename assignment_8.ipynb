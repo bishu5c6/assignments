{
 "cells": [
  {
   "cell_type": "markdown",
   "id": "a992179e",
   "metadata": {},
   "source": [
    "write a program to sort a dictionary by key."
   ]
  },
  {
   "cell_type": "code",
   "execution_count": 5,
   "id": "878187fe",
   "metadata": {},
   "outputs": [
    {
     "name": "stdout",
     "output_type": "stream",
     "text": [
      "original dicitionary  is:  {'name': 'Biswanth', 'place': 'vijayawada', 'dob': '02-08-1997'}\n",
      "[('dob', '02-08-1997'), ('name', 'Biswanth'), ('place', 'vijayawada')]\n"
     ]
    }
   ],
   "source": [
    "import operator\n",
    "dict1 ={'name':'Biswanth',\n",
    "       'place':'vijayawada',\n",
    "       'dob':'02-08-1997'}\n",
    "print('original dicitionary  is: ',dict1)\n",
    "sorted_dict = sorted(dict1.items(), key=operator.itemgetter(0))\n",
    "print(sorted_dict)"
   ]
  },
  {
   "cell_type": "markdown",
   "id": "bad4a996",
   "metadata": {},
   "source": [
    "Write a Python program to get a dictionary from an object's fields."
   ]
  },
  {
   "cell_type": "code",
   "execution_count": 8,
   "id": "95496db3",
   "metadata": {},
   "outputs": [
    {
     "name": "stdout",
     "output_type": "stream",
     "text": [
      "{'x': 'algorithm', 'y': 'statistics', 'z': 'programming'}\n",
      "<__main__.dictObj object at 0x0000020CC231E220>\n"
     ]
    }
   ],
   "source": [
    "class dictObj(object):\n",
    "    def __init__(self):\n",
    "        self.x = 'algorithm'\n",
    "        self.y = 'statistics'\n",
    "        self.z = 'programming'\n",
    "    def do_nothing(self):\n",
    "        pass\n",
    "test = dictObj()\n",
    "print(test.__dict__)\n",
    "print(test)"
   ]
  },
  {
   "cell_type": "markdown",
   "id": "271730d7",
   "metadata": {},
   "source": [
    "write a program to remove duplicates from Dictionary."
   ]
  },
  {
   "cell_type": "code",
   "execution_count": 13,
   "id": "65ab2ae5",
   "metadata": {},
   "outputs": [
    {
     "name": "stdout",
     "output_type": "stream",
     "text": [
      "{'id1': {'name': ['Sara'], 'class': ['V'], 'subject_integration': ['english, math, science']}, 'id2': {'name': ['David'], 'class': ['V'], 'subject_integration': ['english, math, science']}, 'id4': {'name': ['Surya'], 'class': ['V'], 'subject_integration': ['english, math, science']}}\n"
     ]
    }
   ],
   "source": [
    "student_data = {'id1':\n",
    "                {'name': ['Sara'],\n",
    "                'class': ['V'],\n",
    "                'subject_integration': ['english, math, science']\n",
    "                },\n",
    "                'id2':\n",
    "                {'name': ['David'],\n",
    "                'class': ['V'],\n",
    "                'subject_integration': ['english, math, science']\n",
    "                },\n",
    "                'id3':\n",
    "                {'name': ['Sara'],\n",
    "                'class': ['V'],\n",
    "                'subject_integration': ['english, math, science']\n",
    "                },\n",
    "                'id4':\n",
    "                {'name': ['Surya'],\n",
    "                'class': ['V'],\n",
    "                'subject_integration': ['english, math, science']\n",
    "                },\n",
    "                }\n",
    "result = {}\n",
    "for key,value in student_data.items():\n",
    "    if value not in result.values():\n",
    "        result[key] = value\n",
    "print(result)"
   ]
  },
  {
   "cell_type": "markdown",
   "id": "47530e6c",
   "metadata": {},
   "source": [
    "write a program to combine two dictionary adding values for common keys"
   ]
  },
  {
   "cell_type": "code",
   "execution_count": 12,
   "id": "3d4e25b6",
   "metadata": {},
   "outputs": [
    {
     "name": "stdout",
     "output_type": "stream",
     "text": [
      "Counter({'b': 3400, 'a': 1300, 'c': 1300, 'd': 400})\n"
     ]
    }
   ],
   "source": [
    "from collections import Counter\n",
    "d1 = {'a': 1000, 'b': 3200, 'c':1300}\n",
    "d2 = {'a': 300, 'b': 200, 'd':400}\n",
    "d = Counter(d1) + Counter(d2)\n",
    "print(d)"
   ]
  },
  {
   "cell_type": "markdown",
   "id": "2d212090",
   "metadata": {},
   "source": [
    "write a program to print all unique values from a dictionary in a list"
   ]
  },
  {
   "cell_type": "code",
   "execution_count": 15,
   "id": "5ab51e25",
   "metadata": {},
   "outputs": [
    {
     "name": "stdout",
     "output_type": "stream",
     "text": [
      "Unique Values:  {'S002', 'S001', 'S009', 'S005', 'S007'}\n"
     ]
    }
   ],
   "source": [
    "data = [{\"V\":\"S001\"}, {\"V\": \"S002\"}, {\"VI\": \"S001\"}, {\"VI\": \"S005\"}, {\"VII\":\"S005\"}, {\n",
    "\"V\":\"S009\"},{\"VIII\":\"S007\"}]\n",
    "\n",
    "u_value = set( val for dic in data for val in dic.values())\n",
    "print(\"Unique Values: \",u_value)"
   ]
  },
  {
   "cell_type": "code",
   "execution_count": 17,
   "id": "caca4427",
   "metadata": {},
   "outputs": [
    {
     "name": "stdout",
     "output_type": "stream",
     "text": [
      "A    3\n",
      "B    3\n",
      "dtype: int64\n"
     ]
    }
   ],
   "source": [
    "# 2 method using pandas\n",
    "import pandas as pd\n",
    "df = pd.DataFrame({'A': [1, 2, 3, 1, 2], 'B': [4, 5, 6, 4, 5]})\n",
    "print(df.nunique())"
   ]
  },
  {
   "cell_type": "code",
   "execution_count": null,
   "id": "55d40fd5",
   "metadata": {},
   "outputs": [],
   "source": []
  }
 ],
 "metadata": {
  "kernelspec": {
   "display_name": "Python 3 (ipykernel)",
   "language": "python",
   "name": "python3"
  },
  "language_info": {
   "codemirror_mode": {
    "name": "ipython",
    "version": 3
   },
   "file_extension": ".py",
   "mimetype": "text/x-python",
   "name": "python",
   "nbconvert_exporter": "python",
   "pygments_lexer": "ipython3",
   "version": "3.9.13"
  }
 },
 "nbformat": 4,
 "nbformat_minor": 5
}
