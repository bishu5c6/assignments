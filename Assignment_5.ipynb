{
 "cells": [
  {
   "cell_type": "markdown",
   "id": "627c281c",
   "metadata": {},
   "source": [
    "<h6><center> Assignment exception handling </center></h6>\n",
    "\n",
    "<h6>Problem Statement</h6>\n",
    "\n",
    "- write a function to compute 5/0 and use try/except to catch the expression"
   ]
  },
  {
   "cell_type": "code",
   "execution_count": 7,
   "id": "321b9e24",
   "metadata": {},
   "outputs": [
    {
     "name": "stdout",
     "output_type": "stream",
     "text": [
      "division by zero\n",
      "\n",
      "denominator should not be zero\n"
     ]
    }
   ],
   "source": [
    "def division(num1,num2):\n",
    "    try:\n",
    "        c = num1/num2\n",
    "        return c\n",
    "    except Exception as e:\n",
    "        print(e)\n",
    "    finally:\n",
    "        print()\n",
    "        print(\"denominator should not be zero\")\n",
    "division(5,0)"
   ]
  },
  {
   "cell_type": "markdown",
   "id": "48dd7c4d",
   "metadata": {},
   "source": [
    "**Second Method**\n",
    "\n",
    "- taking input from the user"
   ]
  },
  {
   "cell_type": "code",
   "execution_count": 16,
   "id": "45da5c4f",
   "metadata": {},
   "outputs": [
    {
     "name": "stdout",
     "output_type": "stream",
     "text": [
      "Enter the first number: 5\n",
      "Enter the second number: 5\n",
      "\n",
      "The first number you have entered is: 5\n",
      "The second number you have entered is: 5\n",
      "\n",
      "The result is:  1.0\n",
      "denominator should not be zero\n"
     ]
    }
   ],
   "source": [
    "num1 = int(input(\"Enter the first number: \"))\n",
    "num2 = int(input(\"Enter the second number: \"))\n",
    "print()\n",
    "print(f\"The first number you have entered is: {num1}\")\n",
    "print(f\"The second number you have entered is: {num2}\")\n",
    "def division(num1,num2):\n",
    "    try:\n",
    "        m = num1/num2\n",
    "        print()\n",
    "        print(\"The result is: \",m)\n",
    "    except Exception as e:\n",
    "        print(e)\n",
    "    finally:\n",
    "        print(\"denominator should not be zero\")\n",
    "   \n",
    "\n",
    "division(num1,num2)"
   ]
  },
  {
   "cell_type": "markdown",
   "id": "b50e20ce",
   "metadata": {},
   "source": [
    "**Implement a Python program to generate all these sentences**\n",
    "\n",
    "- Americans play Baseball.\n",
    "- Americans play Cricket.\n",
    "- Americans watch Baseball.\n",
    "- Americans watch Cricket.\n",
    "- Indians play Baseball.\n",
    "- Indians play Cricket.\n",
    "- Indians watch Baseball.\n",
    "- Indians watch Cricket."
   ]
  },
  {
   "cell_type": "code",
   "execution_count": 20,
   "id": "2fb09512",
   "metadata": {},
   "outputs": [
    {
     "name": "stdout",
     "output_type": "stream",
     "text": [
      "\n",
      "\n",
      "Americans  play Baseball\n",
      "Americans  play Cricket\n",
      "Americans  watch Baseball\n",
      "Americans  watch Cricket\n",
      "Indians play Baseball\n",
      "Indians play Cricket\n",
      "Indians watch Baseball\n",
      "Indians watch Cricket\n"
     ]
    }
   ],
   "source": [
    "subjects = [\"Americans \",\"Indians\"]\n",
    "verbs    = [\"play\",\"watch\"]\n",
    "objects  = [\"Baseball\",\"Cricket\"]\n",
    "print()\n",
    "print()\n",
    "print(subjects[0],verbs[0],objects[0])\n",
    "print(subjects[0],verbs[0],objects[1])\n",
    "print(subjects[0],verbs[1],objects[0])\n",
    "print(subjects[0],verbs[1],objects[1])\n",
    "print(subjects[1],verbs[0],objects[0])\n",
    "print(subjects[1],verbs[0],objects[1])\n",
    "print(subjects[1],verbs[1],objects[0])\n",
    "print(subjects[1],verbs[1],objects[1])"
   ]
  },
  {
   "cell_type": "code",
   "execution_count": null,
   "id": "3fb7ea4e",
   "metadata": {},
   "outputs": [],
   "source": []
  }
 ],
 "metadata": {
  "kernelspec": {
   "display_name": "Python 3 (ipykernel)",
   "language": "python",
   "name": "python3"
  },
  "language_info": {
   "codemirror_mode": {
    "name": "ipython",
    "version": 3
   },
   "file_extension": ".py",
   "mimetype": "text/x-python",
   "name": "python",
   "nbconvert_exporter": "python",
   "pygments_lexer": "ipython3",
   "version": "3.9.13"
  }
 },
 "nbformat": 4,
 "nbformat_minor": 5
}
