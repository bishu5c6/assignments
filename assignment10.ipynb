{
 "cells": [
  {
   "cell_type": "markdown",
   "id": "c362e66c",
   "metadata": {},
   "source": [
    "create a tuple from multiple data types"
   ]
  },
  {
   "cell_type": "code",
   "execution_count": 1,
   "id": "325b4a8e",
   "metadata": {},
   "outputs": [
    {
     "name": "stdout",
     "output_type": "stream",
     "text": [
      "(False, 'bishu', 1, 12.8, (12+4j))\n",
      "<class 'tuple'>\n"
     ]
    }
   ],
   "source": [
    "tup =(False, \"bishu\", 1, 12.8, 12+4j)\n",
    "print(tup)\n",
    "print(type(tup))"
   ]
  },
  {
   "cell_type": "code",
   "execution_count": 2,
   "id": "1f095d8e",
   "metadata": {},
   "outputs": [
    {
     "name": "stdout",
     "output_type": "stream",
     "text": [
      "(['bishu', 'is', 'good', 'boy'], [1, 2, 3, 4], [1.8, 2.5, 5.8], [True, False, False], [(3+4j), (5+8j), (6+7j)])\n",
      "<class 'tuple'>\n"
     ]
    }
   ],
   "source": [
    "#converting multiple list items \n",
    "a = ['bishu','is','good','boy']\n",
    "b = [1,2,3,4]\n",
    "c = [1.8,2.5,5.8]\n",
    "d = [True, False, False]\n",
    "e = [3+4j, 5+8j, 6+7j]\n",
    "tup1 =(a,b,c,d,e)\n",
    "print(tup1)\n",
    "print(type(tup1))"
   ]
  },
  {
   "cell_type": "markdown",
   "id": "6e61a86b",
   "metadata": {},
   "source": [
    "1. Create a list of length 3 and Create a list of length 4, For each element in the first list,\n",
    "1. Display the corresponding index element of the second list"
   ]
  },
  {
   "cell_type": "code",
   "execution_count": 3,
   "id": "5cbe8993",
   "metadata": {},
   "outputs": [
    {
     "name": "stdout",
     "output_type": "stream",
     "text": [
      "3\n",
      "4\n",
      "--------------------------------\n",
      "my followed by:  my\n",
      "name followed by:  name\n",
      "bishu followed by:  is\n"
     ]
    }
   ],
   "source": [
    "#creating a list length of 3 elements\n",
    "a = ['my', 'name', 'bishu']\n",
    "print(len(a))\n",
    "#creating a list length of 4 elements\n",
    "b = ['my', 'name', 'is', 'Biswanth']\n",
    "print(len(b))\n",
    "print(\"--------------------------------\")\n",
    "#displaying the corresponding element of the second list\n",
    "for a,b in zip(a,b):\n",
    "    print(a, 'followed by: ', b)"
   ]
  },
  {
   "cell_type": "code",
   "execution_count": 4,
   "id": "1ea3832c",
   "metadata": {},
   "outputs": [
    {
     "data": {
      "text/plain": [
       "[('data science', 'Red hat'),\n",
       " ('data science', 'Blue mixx'),\n",
       " ('data science', 'Green gold'),\n",
       " ('data science', 'Orange Ai'),\n",
       " ('Blue mix', 'Red hat'),\n",
       " ('Blue mix', 'Blue mixx'),\n",
       " ('Blue mix', 'Green gold'),\n",
       " ('Blue mix', 'Orange Ai'),\n",
       " ('algorithms', 'Red hat'),\n",
       " ('algorithms', 'Blue mixx'),\n",
       " ('algorithms', 'Green gold'),\n",
       " ('algorithms', 'Orange Ai')]"
      ]
     },
     "execution_count": 4,
     "metadata": {},
     "output_type": "execute_result"
    }
   ],
   "source": [
    "x = ['data science', 'Blue mix', 'algorithms']\n",
    "y = ['Red hat', 'Blue mixx','Green gold','Orange Ai']\n",
    "[(a, b) for a in x for b in y ]"
   ]
  },
  {
   "cell_type": "markdown",
   "id": "58932fd3",
   "metadata": {},
   "source": [
    "write a program for breaking and exiting out of loop"
   ]
  },
  {
   "cell_type": "code",
   "execution_count": 5,
   "id": "a9cb0a96",
   "metadata": {},
   "outputs": [
    {
     "name": "stdout",
     "output_type": "stream",
     "text": [
      "1\n",
      "2\n",
      "3\n",
      "4\n",
      "5\n"
     ]
    }
   ],
   "source": [
    "i = 0\n",
    "while i < 10:\n",
    "    i+= 1\n",
    "    print(i)\n",
    "    if i ==5 :\n",
    "        break"
   ]
  },
  {
   "cell_type": "code",
   "execution_count": 6,
   "id": "6b4ffd2f",
   "metadata": {},
   "outputs": [
    {
     "name": "stdout",
     "output_type": "stream",
     "text": [
      "RCB\n",
      "CSK\n",
      "MI\n",
      "KXIP\n",
      "SRH\n",
      "GT\n",
      "end of list remaining all are out of team\n"
     ]
    }
   ],
   "source": [
    "teams = ['RCB',\"CSK\",\"MI\", 'KXIP', 'SRH', 'GT', 'BT','JT','IT']\n",
    "for team in teams:\n",
    "    print(team)\n",
    "    if team == \"GT\":\n",
    "        print('end of list remaining all are out of team')\n",
    "        break"
   ]
  },
  {
   "cell_type": "code",
   "execution_count": null,
   "id": "3d6f230d",
   "metadata": {},
   "outputs": [],
   "source": []
  },
  {
   "cell_type": "code",
   "execution_count": null,
   "id": "78bdebfb",
   "metadata": {},
   "outputs": [],
   "source": []
  },
  {
   "cell_type": "code",
   "execution_count": null,
   "id": "75922faa",
   "metadata": {},
   "outputs": [],
   "source": []
  }
 ],
 "metadata": {
  "kernelspec": {
   "display_name": "Python 3 (ipykernel)",
   "language": "python",
   "name": "python3"
  },
  "language_info": {
   "codemirror_mode": {
    "name": "ipython",
    "version": 3
   },
   "file_extension": ".py",
   "mimetype": "text/x-python",
   "name": "python",
   "nbconvert_exporter": "python",
   "pygments_lexer": "ipython3",
   "version": "3.9.13"
  }
 },
 "nbformat": 4,
 "nbformat_minor": 5
}
