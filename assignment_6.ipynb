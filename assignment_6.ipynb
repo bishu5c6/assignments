{
 "cells": [
  {
   "cell_type": "markdown",
   "id": "8611adb1",
   "metadata": {},
   "source": [
    "<h6> Write a program to sum all the items in a list </h6>"
   ]
  },
  {
   "cell_type": "code",
   "execution_count": 1,
   "id": "51593323",
   "metadata": {},
   "outputs": [
    {
     "name": "stdout",
     "output_type": "stream",
     "text": [
      "\n",
      "[2, 4, 6, 8, 10, 12, 14, 16, 18, 20]\n"
     ]
    }
   ],
   "source": [
    "l = [1,2,3,4,5,6,7,8,9,10]\n",
    "def add(x):\n",
    "    return x+x\n",
    "add(2)\n",
    "print()\n",
    "sum = list(map(add,l))\n",
    "print(sum)\n",
    "# basic concept using map function  "
   ]
  },
  {
   "cell_type": "code",
   "execution_count": 7,
   "id": "efe3e000",
   "metadata": {},
   "outputs": [
    {
     "name": "stdout",
     "output_type": "stream",
     "text": [
      "sum of all elements in the list 155\n"
     ]
    }
   ],
   "source": [
    "total = 0\n",
    "l = [11,12,13,14,15,16,17,18,19,20]\n",
    "for i in range(0,len(l)):\n",
    "    total = total + l[i]\n",
    "print(\"sum of all elements in the list\",total)"
   ]
  },
  {
   "cell_type": "markdown",
   "id": "f539dd24",
   "metadata": {},
   "source": [
    "###### Write a Python program to count the number of strings where the string length is 2 or more and the first and last character are same from a given list of strings."
   ]
  },
  {
   "cell_type": "code",
   "execution_count": 8,
   "id": "91c14df6",
   "metadata": {},
   "outputs": [
    {
     "name": "stdout",
     "output_type": "stream",
     "text": [
      "4\n"
     ]
    }
   ],
   "source": [
    "def compare(a):\n",
    "    ctr = 0\n",
    "    for i in a:\n",
    "        if len(i) > 2 and i[0] == i[-1]:\n",
    "            ctr+= 1\n",
    "    return ctr\n",
    "\n",
    "a = ['abc', 'xyz', 'aba', '1221', 'aaa', 'asdasdsada']\n",
    "for i in a:\n",
    "    z = compare(a)\n",
    "\n",
    "print(z)"
   ]
  },
  {
   "cell_type": "code",
   "execution_count": 9,
   "id": "e0a1a18c",
   "metadata": {},
   "outputs": [
    {
     "data": {
      "text/plain": [
       "2"
      ]
     },
     "execution_count": 9,
     "metadata": {},
     "output_type": "execute_result"
    }
   ],
   "source": [
    "ls= ['abc', 'xyz', 'aba', '1221']  \n",
    "\n",
    "len([x for x in ls if (len(x) >= 2 and x[-1] == x[0])])    "
   ]
  },
  {
   "cell_type": "markdown",
   "id": "db8abba7",
   "metadata": {},
   "source": [
    "**3. Remove duplicates from a list**"
   ]
  },
  {
   "cell_type": "code",
   "execution_count": 12,
   "id": "1affe290",
   "metadata": {},
   "outputs": [
    {
     "name": "stdout",
     "output_type": "stream",
     "text": [
      "after removing the duplication of elements in the list, the existed elements are: {1, 2, 3, 4, 5, 6, 7, 8, 9, 10}\n"
     ]
    }
   ],
   "source": [
    "li = [1,2,3,4,5,6,7,8,1,2,3,4,5,6,7,8,1,2,3,4,5,6,7,8,9,10]\n",
    "\n",
    "c = set(li)\n",
    "print(f'after removing the duplication of elements in the list, the existed elements are: {c}')"
   ]
  },
  {
   "cell_type": "code",
   "execution_count": null,
   "id": "7ff39548",
   "metadata": {},
   "outputs": [],
   "source": []
  }
 ],
 "metadata": {
  "kernelspec": {
   "display_name": "Python 3 (ipykernel)",
   "language": "python",
   "name": "python3"
  },
  "language_info": {
   "codemirror_mode": {
    "name": "ipython",
    "version": 3
   },
   "file_extension": ".py",
   "mimetype": "text/x-python",
   "name": "python",
   "nbconvert_exporter": "python",
   "pygments_lexer": "ipython3",
   "version": "3.9.13"
  }
 },
 "nbformat": 4,
 "nbformat_minor": 5
}
