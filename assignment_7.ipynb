{
 "cells": [
  {
   "cell_type": "markdown",
   "id": "f1c8819f",
   "metadata": {},
   "source": [
    "<h5>Write a Python program to check if all dictionaries in a list are empty or not.</h6>"
   ]
  },
  {
   "cell_type": "code",
   "execution_count": 1,
   "id": "9e91e669",
   "metadata": {},
   "outputs": [
    {
     "name": "stdout",
     "output_type": "stream",
     "text": [
      "\n",
      "True\n",
      "False\n"
     ]
    }
   ],
   "source": [
    "list1 = [{},{},{}]\n",
    "list2 =[{'name':'bishu'},{'age':26},{'hobby':'cricket'}]\n",
    "print()\n",
    "print(all(not x for x in list1))\n",
    "print(all(not d for d in list2))"
   ]
  },
  {
   "cell_type": "markdown",
   "id": "de60d473",
   "metadata": {},
   "source": [
    "Write a Python program to remove duplicates from a list of lists."
   ]
  },
  {
   "cell_type": "code",
   "execution_count": 2,
   "id": "3d42ad8d",
   "metadata": {},
   "outputs": [
    {
     "name": "stdout",
     "output_type": "stream",
     "text": [
      "The original list is:  [[1, 2, 3], [4, 5, 6], [7, 8, 9], [10, 11, 12], [1, 2, 3], [4, 5, 6], [7, 8, 9], [10, 11, 12]]\n",
      "\n",
      "[(7, 8, 9), (1, 2, 3), (10, 11, 12), (4, 5, 6)]\n"
     ]
    }
   ],
   "source": [
    "l =[[1,2,3],[4,5,6],[7,8,9],[10,11,12],[1,2,3],[4,5,6],[7,8,9],[10,11,12]]\n",
    "print('The original list is: ', l)\n",
    "print()\n",
    "# Removing duplicate sublist\n",
    "# using set() \n",
    "res = list(set(tuple(x) for x in l))\n",
    "print(res)"
   ]
  },
  {
   "cell_type": "markdown",
   "id": "f196a31c",
   "metadata": {},
   "source": [
    "Write a Python program to extend a list without append."
   ]
  },
  {
   "cell_type": "code",
   "execution_count": 5,
   "id": "0814b58f",
   "metadata": {},
   "outputs": [
    {
     "name": "stdout",
     "output_type": "stream",
     "text": [
      "[1, 2, 3, 4, 5, 6]\n"
     ]
    }
   ],
   "source": [
    "l = [1,2,3]\n",
    "l.extend([4,5,6])\n",
    "print(l)"
   ]
  },
  {
   "cell_type": "markdown",
   "id": "1b0e4c67",
   "metadata": {},
   "source": [
    "Write a Python program to find the list in a list of lists whose sum of elements is the highest"
   ]
  },
  {
   "cell_type": "code",
   "execution_count": 10,
   "id": "13738273",
   "metadata": {},
   "outputs": [
    {
     "name": "stdout",
     "output_type": "stream",
     "text": [
      "[14, 15, 16]\n"
     ]
    }
   ],
   "source": [
    "l = [[1,2],[3.4],[5],[9.8,9.8,10.1],[14,15,16]]\n",
    "print(max(l))"
   ]
  },
  {
   "cell_type": "markdown",
   "id": "3e316cc0",
   "metadata": {},
   "source": [
    "Write a Python program to access dictionary key’s element by index."
   ]
  },
  {
   "cell_type": "code",
   "execution_count": 22,
   "id": "323ba6dd",
   "metadata": {},
   "outputs": [
    {
     "name": "stdout",
     "output_type": "stream",
     "text": [
      "dict_keys(['name', 'group', 'country'])\n",
      "cse\n",
      "group\n"
     ]
    }
   ],
   "source": [
    "dicts ={'name':'bishu',\n",
    "       'group':'cse',\n",
    "       'country':'india'}\n",
    "#to print all the keys in the dictionary\n",
    "print(dicts.keys())\n",
    "print(dicts['group'])\n",
    "print(list(dicts)[1])"
   ]
  },
  {
   "cell_type": "markdown",
   "id": "77ad5ed9",
   "metadata": {},
   "source": [
    "Write a Python program to iterate over two lists simultaneously."
   ]
  },
  {
   "cell_type": "code",
   "execution_count": 25,
   "id": "d41c6dc0",
   "metadata": {},
   "outputs": [
    {
     "name": "stdout",
     "output_type": "stream",
     "text": [
      "1 rainbow rain\n",
      "2 bread food\n",
      "3 jam bevearge\n"
     ]
    }
   ],
   "source": [
    "l1 = [1,2,3]\n",
    "l2 = ['rainbow','bread','jam']\n",
    "l3 = ['rain','food','bevearge']\n",
    "\n",
    "for x,y,z in zip(l1,l2,l3):\n",
    "    print(x,y,z)"
   ]
  },
  {
   "cell_type": "markdown",
   "id": "65b956c9",
   "metadata": {},
   "source": [
    "write a program to inser a string at the begining of every elements in a list"
   ]
  },
  {
   "cell_type": "code",
   "execution_count": 34,
   "id": "33ba2546",
   "metadata": {},
   "outputs": [
    {
     "name": "stdout",
     "output_type": "stream",
     "text": [
      "['hi sam', 'hi bishu', 'hi chandini', 'hi sunil', 'hi sunitha']\n"
     ]
    }
   ],
   "source": [
    "a = [' sam',' bishu',' chandini',' sunil',' sunitha']\n",
    "res = ['hi{0}'.format(i) for i in a]\n",
    "print(res)"
   ]
  },
  {
   "cell_type": "markdown",
   "id": "7fc7edc1",
   "metadata": {},
   "source": [
    "compute all permutations in a list"
   ]
  },
  {
   "cell_type": "code",
   "execution_count": 41,
   "id": "7d55d438",
   "metadata": {},
   "outputs": [
    {
     "name": "stdout",
     "output_type": "stream",
     "text": [
      "[(5, 6, 7), (5, 7, 6), (6, 5, 7), (6, 7, 5), (7, 5, 6), (7, 6, 5)]\n"
     ]
    }
   ],
   "source": [
    "import itertools\n",
    "print(list(itertools.permutations([5,6,7])))"
   ]
  },
  {
   "cell_type": "code",
   "execution_count": null,
   "id": "b9e21ec4",
   "metadata": {},
   "outputs": [],
   "source": []
  }
 ],
 "metadata": {
  "kernelspec": {
   "display_name": "Python 3 (ipykernel)",
   "language": "python",
   "name": "python3"
  },
  "language_info": {
   "codemirror_mode": {
    "name": "ipython",
    "version": 3
   },
   "file_extension": ".py",
   "mimetype": "text/x-python",
   "name": "python",
   "nbconvert_exporter": "python",
   "pygments_lexer": "ipython3",
   "version": "3.9.13"
  }
 },
 "nbformat": 4,
 "nbformat_minor": 5
}
