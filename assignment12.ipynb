{
 "cells": [
  {
   "cell_type": "markdown",
   "id": "32ee00d5",
   "metadata": {},
   "source": [
    "1. Write a function so that the columns of the output matrix are powers of the input vector.\n",
    "1. The order of the powers is determined by the increasing boolean argument. Specifically, when\n",
    "   increasing is False, the i-th output column is the input vector raised element-wise to the power\n",
    "   of N - i - 1."
   ]
  },
  {
   "cell_type": "code",
   "execution_count": 1,
   "id": "47ad617f",
   "metadata": {},
   "outputs": [
    {
     "name": "stdout",
     "output_type": "stream",
     "text": [
      "[[  1   1   1   1   1]\n",
      " [ 16   8   4   2   1]\n",
      " [ 81  27   9   3   1]\n",
      " [256  64  16   4   1]\n",
      " [625 125  25   5   1]]\n"
     ]
    }
   ],
   "source": [
    "# we we will use np.vander()\n",
    "import numpy as np\n",
    "x = np.array([1,2,3,4,5])\n",
    "y = 5\n",
    "result = np.vander(x, y, increasing = False)\n",
    "print(result)"
   ]
  },
  {
   "cell_type": "code",
   "execution_count": 2,
   "id": "5266a3e0",
   "metadata": {},
   "outputs": [
    {
     "data": {
      "text/plain": [
       "287.9999999999977"
      ]
     },
     "execution_count": 2,
     "metadata": {},
     "output_type": "execute_result"
    }
   ],
   "source": [
    "#to find the determinant of the matrix\n",
    "np.linalg.det(result)"
   ]
  },
  {
   "cell_type": "code",
   "execution_count": 3,
   "id": "f1c73f8a",
   "metadata": {},
   "outputs": [
    {
     "name": "stdout",
     "output_type": "stream",
     "text": [
      "[[  1   1   1   1   1]\n",
      " [ 16   8   4   2   1]\n",
      " [ 81  27   9   3   1]\n",
      " [256  64  16   4   1]\n",
      " [625 125  25   5   1]]\n"
     ]
    }
   ],
   "source": [
    "# 2 method\n",
    "import numpy as np\n",
    "x = np.array([1,2,3,4,5])\n",
    "y = 5\n",
    "result1 = np.column_stack([x**(y-i-1) for i in range (y)])\n",
    "print(result1)"
   ]
  },
  {
   "cell_type": "code",
   "execution_count": 4,
   "id": "5d507355",
   "metadata": {},
   "outputs": [
    {
     "data": {
      "text/plain": [
       "287.9999999999977"
      ]
     },
     "execution_count": 4,
     "metadata": {},
     "output_type": "execute_result"
    }
   ],
   "source": [
    "np.linalg.det(result1)"
   ]
  },
  {
   "cell_type": "code",
   "execution_count": 5,
   "id": "82c886e7",
   "metadata": {},
   "outputs": [],
   "source": [
    "#completed"
   ]
  },
  {
   "cell_type": "code",
   "execution_count": null,
   "id": "65572522",
   "metadata": {},
   "outputs": [],
   "source": []
  }
 ],
 "metadata": {
  "kernelspec": {
   "display_name": "Python 3 (ipykernel)",
   "language": "python",
   "name": "python3"
  },
  "language_info": {
   "codemirror_mode": {
    "name": "ipython",
    "version": 3
   },
   "file_extension": ".py",
   "mimetype": "text/x-python",
   "name": "python",
   "nbconvert_exporter": "python",
   "pygments_lexer": "ipython3",
   "version": "3.9.13"
  }
 },
 "nbformat": 4,
 "nbformat_minor": 5
}
